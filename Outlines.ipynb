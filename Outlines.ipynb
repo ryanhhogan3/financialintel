{
 "cells": [
  {
   "cell_type": "code",
   "execution_count": 1,
   "id": "white-identity",
   "metadata": {},
   "outputs": [],
   "source": [
    "# Import our libraries\n",
    "import pandas as pd\n",
    "import numpy as np\n",
    "import yfinance as yf\n",
    "import matplotlib.pyplot as plt"
   ]
  },
  {
   "cell_type": "code",
   "execution_count": 2,
   "id": "korean-player",
   "metadata": {},
   "outputs": [],
   "source": [
    "##############################################################\n",
    "### OUTLINE FOR ANALYST RANKING LEADERBOARD ###\n",
    "\n",
    "\n",
    "\n",
    "\n",
    "### History of Recommendations for stock(s) ###\n",
    "\n",
    "\n",
    "### Leaderboard Ranking based on: Accuracy, Influence, Clout, etc ###\n",
    "\n",
    "\n",
    "### Industry and Sector Forecasts ###\n",
    "\n",
    "\n",
    "##############################################################"
   ]
  },
  {
   "cell_type": "code",
   "execution_count": 3,
   "id": "blessed-teacher",
   "metadata": {},
   "outputs": [],
   "source": [
    "##############################################################\n",
    "### OUTLINE FOR NEWS & OPINION POLLS ###\n",
    "\n",
    "\n",
    "##############################################################\n",
    "### NEWS ###\n",
    "\n",
    "### Relevant News Stream With Watchlist Mentions ###\n",
    "\n",
    "\n",
    "### News and Social Media Sentiment Metrics ###\n",
    "\n",
    "\n",
    "### News Aggregation Stream ###\n",
    "\n",
    "\n",
    "### Market News: IPOs, Defaults, M&A, Movements ###\n",
    "\n",
    "\n",
    "##############################################################\n",
    "### OPINION POLLS ###\n",
    "\n",
    "\n",
    "### Bull/Bear Polls ###\n",
    "\n",
    "\n",
    "### VIX & VIX Sentiment ###\n",
    "\n",
    "\n",
    "### Margin Debt Indicator ###\n",
    "\n",
    "\n",
    "### Short Interest and Short Indicators ###\n",
    "\n",
    "\n",
    "### Unusual Options Activity ###"
   ]
  },
  {
   "cell_type": "code",
   "execution_count": 4,
   "id": "australian-corporation",
   "metadata": {},
   "outputs": [],
   "source": [
    "##############################################################\n",
    "### OUTLINE FOR STOCK INFORMATION ###\n",
    "\n",
    "\n",
    "### Stock Metrics ###\n",
    "\n",
    "\n",
    "### Information ###\n",
    "\n",
    "\n",
    "### Error Handling ###\n",
    "\n",
    "\n",
    "### Charts ###\n",
    "\n",
    "\n",
    "### Analysts Activity and Ranking ###"
   ]
  },
  {
   "cell_type": "code",
   "execution_count": 198,
   "id": "partial-princess",
   "metadata": {},
   "outputs": [],
   "source": [
    "##############################################################\n",
    "### OUTLINE FOR GLOBAL MOVEMENTS ###\n",
    "\n",
    "# Here we want to gather and display data from indicies around the world\n",
    "indicies = {'^GSPC': 'SP500',\n",
    "            '^IXIC': 'Nasdaq,',\n",
    "           '^VIX': 'VIX',\n",
    "           '^FTSE': 'FTSE 100 (UK)',\n",
    "           '^FCHI': 'CAC40 (FRANCE)',\n",
    "           '^N225': 'Nikkei (Japan)',\n",
    "           '^MXX': 'IPC MX (Mexico)'}\n",
    "\n",
    "tickers = indicies.keys()\n",
    "ticknames = indicies.values()\n",
    "\n",
    "def plotindicies(ticker):\n",
    "    tick = yf.Ticker(ticker)\n",
    "    index = tick.history(period='30d').Close\n",
    "    indexdf = pd.DataFrame(index)\n",
    "    plot = indexdf.plot(title = '%s 30 day view' % ticker)\n",
    "    return plot\n",
    "    \n",
    "\n",
    "\n",
    "# building our dataframe\n",
    "def globalmarkets(tickers):\n",
    "    indicies1 = pd.DataFrame(columns = ticknames)\n",
    "\n",
    "    for tick in tickers:\n",
    "        indicies = yf.Ticker(tick)\n",
    "        indicies = indicies.history(period='5y').Close\n",
    "        indicies = pd.DataFrame(indicies)\n",
    "        #indicies.columns = [tick]\n",
    "        indicies1.append(indicies)\n",
    "        # #\n",
    "        # indicies = indicies.append(indicies)\n",
    "    #closedf = pd.DataFrame(indicies)\n",
    "    \n",
    "    return indicies\n",
    "\n",
    "\n",
    "#closedf.T.columns\n",
    "\n",
    "\n",
    "### Indicies Price Changes ###\n",
    "\n",
    "\n",
    "### Indicies Metrics ###\n",
    "\n",
    "\n",
    "### Sector Metrics ###\n",
    "\n",
    "\n",
    "### Sector Price Changes ### "
   ]
  },
  {
   "cell_type": "code",
   "execution_count": 199,
   "id": "polar-trouble",
   "metadata": {},
   "outputs": [
    {
     "data": {
      "text/plain": [
       "<AxesSubplot:title={'center':'MSFT 30 day view'}, xlabel='Date'>"
      ]
     },
     "execution_count": 199,
     "metadata": {},
     "output_type": "execute_result"
    },
    {
     "data": {
      "image/png": "[encoded data removed]",
      "text/plain": [
       "<Figure size 432x288 with 1 Axes>"
      ]
     },
     "metadata": {
      "needs_background": "light"
     },
     "output_type": "display_data"
    }
   ],
   "source": [
    "plotindicies('MSFT')\n",
    "\n",
    "for tick in ticker:\n",
    "    "
   ]
  },
  {
   "cell_type": "code",
   "execution_count": null,
   "id": "located-specialist",
   "metadata": {},
   "outputs": [],
   "source": [
    "##############################################################\n",
    "### OUTLINE FOR GLOBAL NEWS & SENTIMENT ###\n",
    "\n",
    "\n",
    "### Global Foreign News Translator ###\n",
    "\n",
    "\n",
    "### Foreign Social Media Sentiment Monitor ###\n",
    "\n",
    "\n",
    "### Monetary Policy and Fiscal Policy News Monitor ###\n",
    "\n",
    "\n",
    "### Government Movements Monitor ###\n",
    "\n",
    "\n",
    "### Top Central Banks Movements and Bal. Sheet Changes ###\n",
    "\n"
   ]
  }
 ],
 "metadata": {
  "kernelspec": {
   "display_name": "Python 3",
   "language": "python",
   "name": "python3"
  },
  "language_info": {
   "codemirror_mode": {
    "name": "ipython",
    "version": 3
   },
   "file_extension": ".py",
   "mimetype": "text/x-python",
   "name": "python",
   "nbconvert_exporter": "python",
   "pygments_lexer": "ipython3",
   "version": "3.9.1"
  }
 },
 "nbformat": 4,
 "nbformat_minor": 5
}
