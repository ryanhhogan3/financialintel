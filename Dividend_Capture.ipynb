{
 "cells": [
  {
   "cell_type": "code",
   "execution_count": null,
   "id": "hydraulic-powell",
   "metadata": {},
   "outputs": [],
   "source": [
    "# Import necessary libraries\n",
    "import numpy as np\n",
    "import pandas as pd\n",
    "import csv\n"
   ]
  },
  {
   "cell_type": "code",
   "execution_count": null,
   "id": "median-fight",
   "metadata": {},
   "outputs": [],
   "source": [
    "### DIVIDEND CAPTURE SYSTEM DRAFT 1 ###\n",
    "\n",
    "class Dividend_Capture:\n",
    "    \n",
    "    # Initiaslize self, starting capital\n",
    "    def __init__(self):\n",
    "        \n",
    "    \n",
    "    # Gather our data\n",
    "    \n",
    "    \n",
    "    # Analyze Dataframe\n",
    "    \n",
    "    \n",
    "    # Select strategy for the portfolio\n",
    "    \n",
    "    \n",
    "    # Enter position (log entry price, time)\n",
    "    \n",
    "    \n",
    "    # Dividend Payout (log dividend recieved, time)\n",
    "    \n",
    "    \n",
    "    # Exit Position (log exit price, time)\n",
    "    \n",
    "    \n",
    "        # Log history in CSV\n",
    "    \n",
    "    \n",
    "    # Visualize returns\n",
    "    \n",
    "    \n",
    "    # Compare Returns against other algorithms"
   ]
  }
 ],
 "metadata": {
  "kernelspec": {
   "display_name": "Python 3",
   "language": "python",
   "name": "python3"
  },
  "language_info": {
   "codemirror_mode": {
    "name": "ipython",
    "version": 3
   },
   "file_extension": ".py",
   "mimetype": "text/x-python",
   "name": "python",
   "nbconvert_exporter": "python",
   "pygments_lexer": "ipython3",
   "version": "3.9.1"
  }
 },
 "nbformat": 4,
 "nbformat_minor": 5
}
