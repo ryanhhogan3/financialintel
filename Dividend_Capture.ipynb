{
 "cells": [
  {
   "cell_type": "code",
   "execution_count": null,
   "id": "collectible-gather",
   "metadata": {},
   "outputs": [],
   "source": [
    "# Import necessary libraries\n",
    "import numpy as np\n",
    "import pandas as pd\n",
    "import csv\n"
   ]
  },
  {
   "cell_type": "code",
   "execution_count": null,
   "id": "frank-shoot",
   "metadata": {},
   "outputs": [],
   "source": [
    "### DIVIDEND CAPTURE SYSTEM DRAFT 1 ###\n",
    "\n",
    "class Dividend_Capture:\n",
    "    \n",
    "    # Initiaslize self, starting capital\n",
    "    def __init__(self):\n",
    "        \n",
    "    \n",
    "    # Gather our data\n",
    "    def get_data(self):\n",
    "    \n",
    "    \n",
    "    # Analyze Dataframe\n",
    "    \n",
    "    \n",
    "    # Select strategy for the portfolio\n",
    "    lowest_price = 0\n",
    "    highest_price = 0\n",
    "    lowest_dividend = 0\n",
    "    highest_dividend = 0\n",
    "    lowest_beta = 0\n",
    "    highest_beta = 0\n",
    "    lowest_marketcap = 0\n",
    "    highest_marketcap = 0\n",
    "    above_sma = 0\n",
    "    below_sma = 0\n",
    "    lowest_PE = 0\n",
    "    highest_PE = 0\n",
    "    lowest_forward_PE = 0\n",
    "    highest_forward_PE = 0\n",
    "    lowest_RSI = 0\n",
    "    highest_RSI = 0\n",
    "    # Differentiate between monthly div and semi-annual div\n",
    "    \n",
    "    \n",
    "    # Enter position (log entry price, time)\n",
    "    CSV\n",
    "    \n",
    "    \n",
    "    # Dividend Payout (log dividend recieved, time)\n",
    "    CSV\n",
    "    \n",
    "    \n",
    "    # Exit Position (log exit price, time)\n",
    "    CSV\n",
    "    \n",
    "    \n",
    "        # Log history in CSV\n",
    "        Append to master sheet\n",
    "    \n",
    "    \n",
    "    # Visualize returns\n",
    "    def plot_results(self):\n",
    "    \n",
    "    \n",
    "    # Compare Returns against other algorithms\n",
    "    def sort_and_compare(self):"
   ]
  }
 ],
 "metadata": {
  "kernelspec": {
   "display_name": "Python 3",
   "language": "python",
   "name": "python3"
  },
  "language_info": {
   "codemirror_mode": {
    "name": "ipython",
    "version": 3
   },
   "file_extension": ".py",
   "mimetype": "text/x-python",
   "name": "python",
   "nbconvert_exporter": "python",
   "pygments_lexer": "ipython3",
   "version": "3.9.1"
  }
 },
 "nbformat": 4,
 "nbformat_minor": 5
}
