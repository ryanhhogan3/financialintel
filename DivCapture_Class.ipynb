{
 "cells": [
  {
   "cell_type": "code",
   "execution_count": 3,
   "id": "specified-earth",
   "metadata": {},
   "outputs": [],
   "source": [
    "# Base Libraries\n",
    "import numpy as np\n",
    "import pandas as pd\n",
    "import csv\n",
    "import datetime as dt\n",
    "\n",
    "# Data Scraping libraries\n",
    "import requests\n",
    "from bs4 import BeautifulSoup\n"
   ]
  },
  {
   "cell_type": "code",
   "execution_count": 2,
   "id": "hawaiian-morocco",
   "metadata": {},
   "outputs": [
    {
     "name": "stdout",
     "output_type": "stream",
     "text": [
      "200\n"
     ]
    }
   ],
   "source": [
    "### DATA MINING AND HANDLING MODULE ###\n",
    "\n",
    "# Web Connection and Handling\n",
    "def bezinga_connection():\n",
    "    url = 'https://www.benzinga.com/calendar/dividends-ex'\n",
    "    geturl = requests.get(url)\n",
    "    print(geturl.status_code)\n",
    "    coverpage = geturl.content\n",
    "    \n",
    "    # Format for reading purposes\n",
    "    bezinga_soup = BeautifulSoup(coverpage)\n",
    "    return bezinga_soup"
   ]
  },
  {
   "cell_type": "code",
   "execution_count": 7,
   "id": "fixed-affair",
   "metadata": {},
   "outputs": [
    {
     "name": "stdout",
     "output_type": "stream",
     "text": [
      "[<tr>\n",
      "<th style=\"width:10%\">\n",
      "          Ticker\n",
      "        </th>\n",
      "<th>\n",
      "          Company\n",
      "        </th>\n",
      "<th style=\"width:11%\">\n",
      "          Dividend\n",
      "        </th>\n",
      "<th style=\"width:9%\">\n",
      "          Yield\n",
      "        </th>\n",
      "<th style=\"width:10%\">\n",
      "          ex-Date\n",
      "        </th>\n",
      "<th style=\"width:13%\">\n",
      "          Announced\n",
      "        </th>\n",
      "<th style=\"width:12%\">\n",
      "          Recorded\n",
      "        </th>\n",
      "<th style=\"width:11%\">\n",
      "          Payable\n",
      "        </th>\n",
      "</tr>]\n"
     ]
    }
   ],
   "source": []
  },
  {
   "cell_type": "code",
   "execution_count": null,
   "id": "consecutive-commercial",
   "metadata": {},
   "outputs": [],
   "source": [
    "### DIVIDEND CAPTURE SYSTEM DRAFT 1 ###\n",
    "\n",
    "class Dividend_Capture:\n",
    "    \n",
    "    # Initiaslize self, starting capital\n",
    "    def __init__(self):\n",
    "        \n",
    "    \n",
    "    # Gather our data\n",
    "    def get_data(self):\n",
    "    \n",
    "    \n",
    "    # Analyze Dataframe\n",
    "    \n",
    "    \n",
    "    # Select strategy for the portfolio\n",
    "    lowest_price = 0\n",
    "    highest_price = 0\n",
    "    lowest_dividend = 0\n",
    "    highest_dividend = 0\n",
    "    lowest_beta = 0\n",
    "    highest_beta = 0\n",
    "    lowest_marketcap = 0\n",
    "    highest_marketcap = 0\n",
    "    above_sma = 0\n",
    "    below_sma = 0\n",
    "    lowest_PE = 0\n",
    "    highest_PE = 0\n",
    "    lowest_forward_PE = 0\n",
    "    highest_forward_PE = 0\n",
    "    lowest_RSI = 0\n",
    "    highest_RSI = 0\n",
    "    \n",
    "    \n",
    "    \n",
    "    # Differentiate between monthly div and semi-annual div\n",
    "    \n",
    "    \n",
    "    # Enter position (log entry price, time)\n",
    "    CSV\n",
    "    \n",
    "    \n",
    "    # Dividend Payout (log dividend recieved, time)\n",
    "    CSV\n",
    "    \n",
    "    \n",
    "    # Exit Position (log exit price, time)\n",
    "    CSV\n",
    "    \n",
    "    \n",
    "        # Log history in CSV\n",
    "        Append to master sheet\n",
    "    \n",
    "    \n",
    "    # Visualize returns\n",
    "    def plot_results(self):\n",
    "    \n",
    "    \n",
    "    # Compare Returns against other algorithms\n",
    "    def sort_and_compare(self):"
   ]
  },
  {
   "cell_type": "code",
   "execution_count": null,
   "id": "meaning-database",
   "metadata": {},
   "outputs": [],
   "source": [
    "### CALCULATING PROBABILITY OF DROP IN STOCK PRICE AFTER DIVIDEND\n",
    "def get_stock_history(stock):\n",
    "    ticker = yf"
   ]
  }
 ],
 "metadata": {
  "kernelspec": {
   "display_name": "Python 3",
   "language": "python",
   "name": "python3"
  },
  "language_info": {
   "codemirror_mode": {
    "name": "ipython",
    "version": 3
   },
   "file_extension": ".py",
   "mimetype": "text/x-python",
   "name": "python",
   "nbconvert_exporter": "python",
   "pygments_lexer": "ipython3",
   "version": "3.9.1"
  }
 },
 "nbformat": 4,
 "nbformat_minor": 5
}
